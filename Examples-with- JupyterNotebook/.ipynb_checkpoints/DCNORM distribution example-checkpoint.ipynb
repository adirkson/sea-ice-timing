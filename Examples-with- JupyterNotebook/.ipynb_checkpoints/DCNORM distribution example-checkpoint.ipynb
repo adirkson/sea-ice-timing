{
 "cells": [
  {
   "cell_type": "markdown",
   "metadata": {},
   "source": [
    "# Using the dcnorm module\n",
    "\n",
    "* This notebook teaches some of the basic functionality of the `dcnorm` module.\n",
    "\n",
    "* You should have already installed the `NCGR` package (https://github.com/adirkson/sea-ice-timing) before running this notebook.  \n",
    "As a first step, we'll import the modules used in this notebook."
   ]
  },
  {
   "cell_type": "code",
   "execution_count": 1,
   "metadata": {},
   "outputs": [
    {
     "ename": "ModuleNotFoundError",
     "evalue": "No module named 'dcnorm'",
     "output_type": "error",
     "traceback": [
      "\u001b[0;31m---------------------------------------------------------------------------\u001b[0m",
      "\u001b[0;31mModuleNotFoundError\u001b[0m                       Traceback (most recent call last)",
      "\u001b[0;32m<ipython-input-1-dcc78f532fd7>\u001b[0m in \u001b[0;36m<module>\u001b[0;34m\u001b[0m\n\u001b[0;32m----> 1\u001b[0;31m \u001b[0;32mfrom\u001b[0m \u001b[0mdcnorm\u001b[0m \u001b[0;32mimport\u001b[0m \u001b[0mdcnorm_gen\u001b[0m\u001b[0;34m\u001b[0m\u001b[0;34m\u001b[0m\u001b[0m\n\u001b[0m\u001b[1;32m      2\u001b[0m \u001b[0;32mimport\u001b[0m \u001b[0mnumpy\u001b[0m \u001b[0;32mas\u001b[0m \u001b[0mnp\u001b[0m\u001b[0;34m\u001b[0m\u001b[0;34m\u001b[0m\u001b[0m\n\u001b[1;32m      3\u001b[0m \u001b[0;32mimport\u001b[0m \u001b[0mmatplotlib\u001b[0m\u001b[0;34m.\u001b[0m\u001b[0mpyplot\u001b[0m \u001b[0;32mas\u001b[0m \u001b[0mplt\u001b[0m\u001b[0;34m\u001b[0m\u001b[0;34m\u001b[0m\u001b[0m\n",
      "\u001b[0;31mModuleNotFoundError\u001b[0m: No module named 'dcnorm'"
     ]
    }
   ],
   "source": [
    "from NCGR.dcnorm import dcnorm_gen\n",
    "import numpy as np\n",
    "import matplotlib.pyplot as plt"
   ]
  },
  {
   "cell_type": "markdown",
   "metadata": {},
   "source": [
    "Before instantiating `dcnorm_gen`, we need to create variables for the **minimum** and **maximum** values that the DCNORM distribution takes (i.e. its support):"
   ]
  },
  {
   "cell_type": "code",
   "execution_count": null,
   "metadata": {},
   "outputs": [],
   "source": [
    "a=120\n",
    "b=273"
   ]
  },
  {
   "cell_type": "markdown",
   "metadata": {},
   "source": [
    "For instantiating `dcnorm_gen`, the only important arguments are these values: "
   ]
  },
  {
   "cell_type": "code",
   "execution_count": null,
   "metadata": {},
   "outputs": [],
   "source": [
    "dcnorm = dcnorm_gen(a=a, b=b)"
   ]
  },
  {
   "cell_type": "markdown",
   "metadata": {},
   "source": [
    "We can now make a DCNORM distribution object with the `a` and `b` values fixed, and some arbitrary parameter values $\\mu$ and $\\sigma$ (note that it is necessary to have $a\\leq \\mu \\leq b$."
   ]
  },
  {
   "cell_type": "code",
   "execution_count": null,
   "metadata": {},
   "outputs": [],
   "source": [
    "# mu variable for the DCNORM distribution\n",
    "m=132.\n",
    "# sigma variable for the DCNORM distribution\n",
    "s=20.\n",
    "\n",
    "# instantiate a dcnorm distribution object\n",
    "rv = dcnorm(m,s)"
   ]
  },
  {
   "cell_type": "markdown",
   "metadata": {},
   "source": [
    "`rv` is now a frozen object representing a random variable described by the DCNORM distribution with the given parameters (try some others, too!); it has several methods (see documentation for `dcnorm_gen` and `scipy.stats.rv_continuous`). We'll go through some main ones now.\n",
    "\n",
    "For instance, its PDF can be plotted simply with:"
   ]
  },
  {
   "cell_type": "code",
   "execution_count": null,
   "metadata": {},
   "outputs": [],
   "source": [
    "x = np.linspace(a, b, 1000) # discretize the range from a to b\n",
    "x_sub = x[(x!=a)&(x!=b)] # extract from those values where x is not a or b\n",
    "plt.figure()\n",
    "plt.plot(x_sub, rv.pdf(x_sub), color='r') # plot for a<x<b\n",
    "plt.plot(a, rv.pdf(a)*1e-1, 'o', color='r') # point mass at a (re-scale by 1/10 for plotting)\n",
    "plt.plot(b, rv.pdf(b)*1e-1, 'o', color='r') # point mass at b (re-scale by 1/10 for plotting)\n",
    "plt.show()"
   ]
  },
  {
   "cell_type": "markdown",
   "metadata": {},
   "source": [
    "Note that the maginute of the circles have been reduced by a factor of 1e-1 to make it easier to see the shape of the PDF. Above, it's not actually necessary to plot the different components of the PDF seperately; the reason for doing so was purely cosmetic. We could have also typed \n",
    "```python \n",
    "plt.plot(x,rv.pdf(x))\n",
    "```"
   ]
  },
  {
   "cell_type": "markdown",
   "metadata": {},
   "source": [
    "A random sample of size 20 can be drawn from the distribution using the `dcnorm.rvs` method:"
   ]
  },
  {
   "cell_type": "code",
   "execution_count": null,
   "metadata": {},
   "outputs": [],
   "source": [
    "X = rv.rvs(size=20)"
   ]
  },
  {
   "cell_type": "markdown",
   "metadata": {},
   "source": [
    "We'll now plot the this sample that was generated, along with the true PDF:"
   ]
  },
  {
   "cell_type": "code",
   "execution_count": null,
   "metadata": {},
   "outputs": [],
   "source": [
    "plt.figure()\n",
    "plt.hist(X, density=True, color='b', alpha=0.5)\n",
    "plt.plot(x_sub, rv.pdf(x_sub), color='r') # plot for a<x<b\n",
    "plt.plot(a, rv.pdf(a)*1e-1, 'o', color='r') # point mass at a (re-scale by 1/10 for plotting)\n",
    "plt.plot(b, rv.pdf(b)*1e-1, 'o', color='r') # point mass at b (re-scale by 1/10 for plotting)\n",
    "plt.title('PDF')\n",
    "plt.show()"
   ]
  },
  {
   "cell_type": "markdown",
   "metadata": {},
   "source": [
    "Next, we'll use the `dcnorm.fit` method to fit the sample of data to a DCNORM distribution:"
   ]
  },
  {
   "cell_type": "code",
   "execution_count": null,
   "metadata": {},
   "outputs": [],
   "source": [
    "m_fit, s_fit = dcnorm.fit(X) # fit parameters to data\n",
    "rv_fit = dcnorm(m_fit, s_fit) # create new distribution object with fitted parameters"
   ]
  },
  {
   "cell_type": "markdown",
   "metadata": {},
   "source": [
    "and recreate the previous plot, but also include the fitted distribution:"
   ]
  },
  {
   "cell_type": "code",
   "execution_count": null,
   "metadata": {},
   "outputs": [],
   "source": [
    "plt.figure()\n",
    "plt.hist(X, density=True, color='b', alpha=0.5, label='data')\n",
    "plt.plot(x_sub, rv.pdf(x_sub), color='r', label='true dist.') # plot for a<x<b\n",
    "plt.plot(a, rv.pdf(a)*1e-1, 'o', color='r') # point mass at a (re-scale by 1/10 for plotting)\n",
    "plt.plot(b, rv.pdf(b)*1e-1, 'o', color='r') # point mass at b (re-scale by 1/10 for plotting)\n",
    "\n",
    "plt.plot(x_sub, rv_fit.pdf(x_sub), color='b', label='fitted dist.') # plot for a<x<b\n",
    "plt.plot(a, rv_fit.pdf(a)*1e-1, 'o', color='b') # point mass at a (re-scale by 1/10 for plotting)\n",
    "plt.plot(b, rv_fit.pdf(b)*1e-1, 'o', color='b') # point mass at b (re-scale by 1/10 for plotting)\n",
    "\n",
    "plt.legend()\n",
    "plt.title('PDF')\n",
    "plt.show()"
   ]
  },
  {
   "cell_type": "markdown",
   "metadata": {},
   "source": [
    "We can make an analogous plot for the CDF's as well, making used of the `dcnorm.ecdf` method to plot the CDF for the data (i.e. the empirical CDF)."
   ]
  },
  {
   "cell_type": "code",
   "execution_count": null,
   "metadata": {},
   "outputs": [],
   "source": [
    "plt.figure()\n",
    "plt.plot(x, dcnorm.ecdf(x,X), color='b', alpha=0.5, label='data')\n",
    "plt.plot(x, rv.cdf(x), color='r', label='true dist.') # plot for a<x<b\n",
    "plt.plot(x, rv_fit.cdf(x), color='b', label='fitted dist.') # plot for a<x<b\n",
    "plt.legend()\n",
    "plt.title('CDF')\n",
    "plt.show()"
   ]
  },
  {
   "cell_type": "raw",
   "metadata": {},
   "source": []
  },
  {
   "cell_type": "markdown",
   "metadata": {},
   "source": [
    "Finally, we'll compute the statistical moments of the distribution (mean, variance, skewness, kurtosis), noting that the mean and variance are calculalated using closed-form expressions."
   ]
  },
  {
   "cell_type": "code",
   "execution_count": 2,
   "metadata": {},
   "outputs": [
    {
     "ename": "NameError",
     "evalue": "name 'rv' is not defined",
     "output_type": "error",
     "traceback": [
      "\u001b[0;31m---------------------------------------------------------------------------\u001b[0m",
      "\u001b[0;31mNameError\u001b[0m                                 Traceback (most recent call last)",
      "\u001b[0;32m<ipython-input-2-86485825998e>\u001b[0m in \u001b[0;36m<module>\u001b[0;34m\u001b[0m\n\u001b[0;32m----> 1\u001b[0;31m \u001b[0mm\u001b[0m\u001b[0;34m,\u001b[0m \u001b[0mv\u001b[0m\u001b[0;34m,\u001b[0m \u001b[0ms\u001b[0m\u001b[0;34m,\u001b[0m \u001b[0mk\u001b[0m \u001b[0;34m=\u001b[0m \u001b[0mrv\u001b[0m\u001b[0;34m.\u001b[0m\u001b[0mstats\u001b[0m\u001b[0;34m(\u001b[0m\u001b[0;34m'mvsk'\u001b[0m\u001b[0;34m)\u001b[0m\u001b[0;34m\u001b[0m\u001b[0;34m\u001b[0m\u001b[0m\n\u001b[0m\u001b[1;32m      2\u001b[0m \u001b[0mprint\u001b[0m\u001b[0;34m(\u001b[0m\u001b[0;34m\"mean, variance, skewness, kurtosis\"\u001b[0m\u001b[0;34m,\u001b[0m \u001b[0;34m(\u001b[0m\u001b[0mm\u001b[0m\u001b[0;34m,\u001b[0m \u001b[0mv\u001b[0m\u001b[0;34m,\u001b[0m \u001b[0ms\u001b[0m\u001b[0;34m,\u001b[0m \u001b[0mk\u001b[0m\u001b[0;34m)\u001b[0m\u001b[0;34m)\u001b[0m\u001b[0;34m\u001b[0m\u001b[0;34m\u001b[0m\u001b[0m\n",
      "\u001b[0;31mNameError\u001b[0m: name 'rv' is not defined"
     ]
    }
   ],
   "source": [
    "m, v, s, k = rv.stats('mvsk')\n",
    "print(\"mean, variance, skewness, kurtosis\", (m, v, s, k))"
   ]
  }
 ],
 "metadata": {
  "kernelspec": {
   "display_name": "Python 3",
   "language": "python",
   "name": "python3"
  },
  "language_info": {
   "codemirror_mode": {
    "name": "ipython",
    "version": 3
   },
   "file_extension": ".py",
   "mimetype": "text/x-python",
   "name": "python",
   "nbconvert_exporter": "python",
   "pygments_lexer": "ipython3",
   "version": "3.7.6"
  }
 },
 "nbformat": 4,
 "nbformat_minor": 4
}
