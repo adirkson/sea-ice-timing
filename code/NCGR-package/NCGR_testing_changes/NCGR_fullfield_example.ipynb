{
 "cells": [
  {
   "cell_type": "markdown",
   "metadata": {},
   "source": [
    "# Performing NCGR on a full field\n",
    "\n",
    "* This notebook walks you through how to perform non-homoegenous Gaussian regression (NCGR) on an ice-free date or freeze-up date forecast at every grid cell.\n",
    "\n",
    "* This option is **useful if you *do want* to rely on NetCDF dependencies**. This is the most straightforward way to perform the NCGR calibration in one go for the whole domain provided. Using this approach, an output NetCDF file is create that can be used to easily plot the probabilistic forecasts for early, near-normal, and late ice retreat or advance.\n",
    "\n",
    "* You should have already installed the `sea_ice_timing` package (https://github.com/adirkson/sea-ice-timing) before running this notebook. \n",
    "\n",
    "* The first section of this notebook, **Bare-bones code**, just offers a copy and pasteable section of code that performs NCGR with `ncgr.ncgr_fullfield`.\n",
    "\n",
    "* The second section of the notebook, **Detailed explanation and plotting** goes through step-by-step and provides insights on each piece of code, as well as on the input NetCDF files required, and creates plots showing the results."
   ]
  },
  {
   "cell_type": "markdown",
   "metadata": {},
   "source": [
    "## Bare-bones code"
   ]
  },
  {
   "cell_type": "markdown",
   "metadata": {},
   "source": [
    "```python\n",
    "from NCGR import ncgr\n",
    "\n",
    "# input filenames\n",
    "hc_netcdf = '/Data/ifd_hc_1979_2017_im06.nc' \n",
    "obs_netcdf = '/Data/ifd_obs_1979_2017_im06.nc' \n",
    "fcst_netcdf = '/Data/ifd_fcst_2018_im06.nc' \n",
    "clim_netcdf = '/Data/ifd_clim_2008_2017_im06.nc' \n",
    "\n",
    "# output filename (this usually doesn't exist yet)\n",
    "out_netcdf = '/Data/ifd_fcst_2018_im06_ncgr.nc'\n",
    "\n",
    "# calibrate \n",
    "ncgr.ncgr_fullfield(hc_netcdf, obs_netcdf, fcst_netcdf, out_netcdf, event,\n",
    "                  a, b, clim_netcdf=clim_netcdf) \n",
    "```"
   ]
  },
  {
   "cell_type": "markdown",
   "metadata": {},
   "source": [
    "## Detailed explanation and plotting"
   ]
  }
 ],
 "metadata": {
  "kernelspec": {
   "display_name": "Python 3",
   "language": "python",
   "name": "python3"
  },
  "language_info": {
   "codemirror_mode": {
    "name": "ipython",
    "version": 3
   },
   "file_extension": ".py",
   "mimetype": "text/x-python",
   "name": "python",
   "nbconvert_exporter": "python",
   "pygments_lexer": "ipython3",
   "version": "3.7.6"
  }
 },
 "nbformat": 4,
 "nbformat_minor": 4
}
